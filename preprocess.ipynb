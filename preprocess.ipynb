{
 "cells": [
  {
   "cell_type": "markdown",
   "metadata": {},
   "source": [
    "# preprocessing data"
   ]
  },
  {
   "cell_type": "markdown",
   "metadata": {},
   "source": [
    "### importar bibliotecas"
   ]
  },
  {
   "cell_type": "code",
   "execution_count": 1,
   "metadata": {},
   "outputs": [],
   "source": [
    "import pandas as pd\n",
    "import numpy as np\n",
    "import os\n",
    "import sys\n",
    "import re\n",
    "import string"
   ]
  },
  {
   "cell_type": "markdown",
   "metadata": {},
   "source": [
    "### definir variáveis globais"
   ]
  },
  {
   "cell_type": "code",
   "execution_count": 2,
   "metadata": {},
   "outputs": [],
   "source": [
    "BASE_DIR = ''\n",
    "TEXT_DATA_DIR = os.path.join(BASE_DIR, 'cientificidade')"
   ]
  },
  {
   "cell_type": "code",
   "execution_count": 3,
   "metadata": {},
   "outputs": [],
   "source": [
    "#teste = pd.read_csv('cientificidade/201721.csv', sep=';', encoding = \"iso-8859-1\")"
   ]
  },
  {
   "cell_type": "markdown",
   "metadata": {},
   "source": [
    "### ler arquivos e uní-los em um único DataFrame"
   ]
  },
  {
   "cell_type": "code",
   "execution_count": 4,
   "metadata": {},
   "outputs": [
    {
     "name": "stdout",
     "output_type": "stream",
     "text": [
      "processing dataset\n",
      "arquivos encontrados: 8\n",
      "cientificidade\\201621.csv\n",
      "cientificidade\\201622.csv\n",
      "cientificidade\\201711.csv\n",
      "cientificidade\\201712.csv\n",
      "cientificidade\\201721.csv\n",
      "cientificidade\\201722.csv\n",
      "cientificidade\\201723.csv\n",
      "cientificidade\\201810.csv\n"
     ]
    }
   ],
   "source": [
    "print(\"processing dataset\")\n",
    "\n",
    "textos = []\n",
    "notas_indices = {}\n",
    "notas = []\n",
    "\n",
    "frames = []\n",
    "print(\"arquivos encontrados:\", len(os.listdir(TEXT_DATA_DIR)))\n",
    "for fname in sorted(os.listdir(TEXT_DATA_DIR)):\n",
    "    fpath = os.path.join(TEXT_DATA_DIR, fname)\n",
    "    print(fpath)\n",
    "    df = pd.read_csv(fpath, sep=';', encoding = \"iso-8859-1\")\n",
    "    frames.append(df)\n",
    "    \n"
   ]
  },
  {
   "cell_type": "markdown",
   "metadata": {},
   "source": [
    "### transportar todos os valores para uma lista\n",
    "#### colocar tudo em lower case\n",
    "#### remover caracteres\n",
    "#### truncar as notas para int"
   ]
  },
  {
   "cell_type": "code",
   "execution_count": 5,
   "metadata": {},
   "outputs": [],
   "source": [
    "resultado = pd.concat(frames, ignore_index=True)\n",
    "respostas = resultado['resposta'].values.tolist()\n",
    "respostas = [r.lower() for r in respostas]\n",
    "respostas = [re.sub(r'[^\\w\\s]','',r) for r in respostas]"
   ]
  },
  {
   "cell_type": "code",
   "execution_count": 6,
   "metadata": {},
   "outputs": [
    {
     "data": {
      "text/plain": [
       "242"
      ]
     },
     "execution_count": 6,
     "metadata": {},
     "output_type": "execute_result"
    }
   ],
   "source": [
    "notas = []\n",
    "for r in resultado['nota']:\n",
    "    #print(type(r))\n",
    "    if isinstance(r, str):\n",
    "        r = r.replace(',','.')    \n",
    "    r = float(r)\n",
    "    r = round(r)\n",
    "    r = int(r)\n",
    "    notas.append(r)\n",
    "    \n",
    "len(notas)"
   ]
  },
  {
   "cell_type": "code",
   "execution_count": 7,
   "metadata": {},
   "outputs": [],
   "source": [
    "#resultado['nota'] = resultado['nota'].astype(float)"
   ]
  },
  {
   "cell_type": "markdown",
   "metadata": {},
   "source": [
    "#### salvar de volta o texto pre processado para futuras abordagens"
   ]
  },
  {
   "cell_type": "code",
   "execution_count": 8,
   "metadata": {},
   "outputs": [],
   "source": [
    "new_r = pd.DataFrame(columns = ['resposta', 'nota'])\n",
    "new_r['resposta'] = respostas\n",
    "new_r['nota']= notas\n",
    "new_r.to_csv('preprocessado.csv', encoding = 'latin1', index = False)"
   ]
  },
  {
   "cell_type": "markdown",
   "metadata": {},
   "source": [
    "#### remover stopwords"
   ]
  },
  {
   "cell_type": "code",
   "execution_count": 9,
   "metadata": {},
   "outputs": [],
   "source": [
    "def remove_stopwords(respostas):\n",
    "    stopwords = []\n",
    "    frases = []\n",
    "    with open(os.path.join(BASE_DIR, 'stopwords.txt'), encoding = \"utf8\") as f:\n",
    "        for line in f:\n",
    "            line = line.strip()\n",
    "            stopwords.append(line)\n",
    "    for r in respostas:\n",
    "        semstop = [p for p in r.split() if p not in stopwords]\n",
    "        frases.append(semstop)\n",
    "    return frases\n",
    "    "
   ]
  },
  {
   "cell_type": "markdown",
   "metadata": {},
   "source": [
    "#### salvar sem stopwords"
   ]
  },
  {
   "cell_type": "code",
   "execution_count": 15,
   "metadata": {},
   "outputs": [],
   "source": [
    "frases = remove_stopwords(respostas)\n",
    "sem_stopwords = pd.DataFrame(columns = ['resposta', 'nota'])\n",
    "sem_stopwords['resposta'] = [\" \".join(f) for f in frases]\n",
    "sem_stopwords['nota']= notas\n",
    "#print(sem_stopwords['resposta'])\n",
    "sem_stopwords.to_csv('preprocessado_sem_stopwords.csv', encoding = 'latin1', index = False)"
   ]
  },
  {
   "cell_type": "markdown",
   "metadata": {},
   "source": [
    "#### teste"
   ]
  },
  {
   "cell_type": "code",
   "execution_count": 11,
   "metadata": {},
   "outputs": [
    {
     "name": "stdout",
     "output_type": "stream",
     "text": [
      "Faz uso de teorias sociais e biológicas e dependendo da pesquisa usa-se tanto quali com quanti pois algumas pesquisas faz uso de métodos experimentais e outros são mais subjetivas.\n",
      "\n",
      "\n",
      "faz uso de teorias sociais e biológicas e dependendo da pesquisa usase tanto quali com quanti pois algumas pesquisas faz uso de métodos experimentais e outros são mais subjetivas\n",
      "\n",
      "\n",
      "['faz', 'uso', 'teorias', 'sociais', 'biológicas', 'dependendo', 'pesquisa', 'usase', 'tanto', 'quali', 'quanti', 'pois', 'algumas', 'pesquisas', 'faz', 'uso', 'métodos', 'experimentais', 'outros', 'subjetivas']\n"
     ]
    }
   ],
   "source": [
    "print(resultado.iloc[150, 0])\n",
    "print('\\n')\n",
    "print(respostas[150])\n",
    "print('\\n')\n",
    "print(frases[150])"
   ]
  },
  {
   "cell_type": "markdown",
   "metadata": {},
   "source": [
    "#### estatísticas"
   ]
  },
  {
   "cell_type": "code",
   "execution_count": 12,
   "metadata": {},
   "outputs": [
    {
     "name": "stdout",
     "output_type": "stream",
     "text": [
      "tamanho do dataset:  242\n"
     ]
    }
   ],
   "source": [
    "print(\"tamanho do dataset: \", len(respostas) )"
   ]
  },
  {
   "cell_type": "code",
   "execution_count": 16,
   "metadata": {},
   "outputs": [
    {
     "name": "stdout",
     "output_type": "stream",
     "text": [
      "número máximo de tokens no dataset com stopwords:  71\n",
      "número máximo de tokens no dataset sem stopwords:  46\n"
     ]
    }
   ],
   "source": [
    "# quantidade de tokens no dataset\n",
    "max_stop = 0\n",
    "max_sem_stop = 0\n",
    "for f in respostas:\n",
    "    if max_stop < len(f.split()):\n",
    "        max_stop = len(f.split())\n",
    "for f in frases:\n",
    "    if max_sem_stop < len(f):\n",
    "        max_sem_stop = len(f)\n",
    "\n",
    "print(\"número máximo de tokens no dataset com stopwords: \",max_stop)\n",
    "print(\"número máximo de tokens no dataset sem stopwords: \",max_sem_stop)"
   ]
  },
  {
   "cell_type": "code",
   "execution_count": 22,
   "metadata": {},
   "outputs": [],
   "source": [
    "quantidade= {'0': 0, '1':0, '2':0, '3':0, '4':0, '5':0, '6':0, '7':0, '8':0, '9':0, '10':0}\n",
    "for n in notas:\n",
    "    if n == 0:\n",
    "        quantidade['0'] += 1\n",
    "    if n == 1:\n",
    "        quantidade['1'] += 1\n",
    "    if n == 2:\n",
    "        quantidade['2'] += 1\n",
    "    if n == 3:\n",
    "        quantidade['3'] += 1\n",
    "    if n == 4:\n",
    "        quantidade['4'] += 1\n",
    "    if n == 5:\n",
    "        quantidade['5'] += 1\n",
    "    if n == 6:\n",
    "        quantidade['6'] += 1\n",
    "    if n == 7:\n",
    "        quantidade['7'] += 1\n",
    "    if n == 8:\n",
    "        quantidade['8'] += 1\n",
    "    if n == 9:\n",
    "        quantidade['9'] += 1\n",
    "    if n == 10:\n",
    "        quantidade['10'] += 1\n",
    "        \n",
    "    "
   ]
  },
  {
   "cell_type": "code",
   "execution_count": 23,
   "metadata": {},
   "outputs": [
    {
     "data": {
      "text/plain": [
       "{'0': 7,\n",
       " '1': 13,\n",
       " '10': 2,\n",
       " '2': 32,\n",
       " '3': 39,\n",
       " '4': 40,\n",
       " '5': 38,\n",
       " '6': 42,\n",
       " '7': 16,\n",
       " '8': 7,\n",
       " '9': 6}"
      ]
     },
     "execution_count": 23,
     "metadata": {},
     "output_type": "execute_result"
    }
   ],
   "source": [
    "quantidade"
   ]
  },
  {
   "cell_type": "code",
   "execution_count": null,
   "metadata": {},
   "outputs": [],
   "source": []
  }
 ],
 "metadata": {
  "kernelspec": {
   "display_name": "Python 3",
   "language": "python",
   "name": "python3"
  },
  "language_info": {
   "codemirror_mode": {
    "name": "ipython",
    "version": 3
   },
   "file_extension": ".py",
   "mimetype": "text/x-python",
   "name": "python",
   "nbconvert_exporter": "python",
   "pygments_lexer": "ipython3",
   "version": "3.5.4"
  }
 },
 "nbformat": 4,
 "nbformat_minor": 2
}
